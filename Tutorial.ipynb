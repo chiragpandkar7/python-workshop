{
 "cells": [
  {
   "cell_type": "code",
   "execution_count": 3,
   "id": "5c20f69c-d46b-46db-85a3-3426c7b3c7a7",
   "metadata": {},
   "outputs": [
    {
     "name": "stdout",
     "output_type": "stream",
     "text": [
      "Requirement already satisfied: numpy in c:\\users\\chira\\appdata\\local\\programs\\python\\python39\\lib\\site-packages (1.21.0)Note: you may need to restart the kernel to use updated packages.\n"
     ]
    },
    {
     "name": "stderr",
     "output_type": "stream",
     "text": [
      "WARNING: You are using pip version 20.2.3; however, version 24.0 is available."
     ]
    },
    {
     "name": "stdout",
     "output_type": "stream",
     "text": [
      "\n"
     ]
    },
    {
     "name": "stderr",
     "output_type": "stream",
     "text": [
      "\n",
      "You should consider upgrading via the 'c:\\users\\chira\\appdata\\local\\programs\\python\\python39\\python.exe -m pip install --upgrade pip' command.\n"
     ]
    }
   ],
   "source": [
    "pip install numpy\n"
   ]
  },
  {
   "cell_type": "code",
   "execution_count": 4,
   "id": "1b5e22f9-a014-4f52-92d8-5fc688e1904e",
   "metadata": {},
   "outputs": [],
   "source": [
    "import numpy as np"
   ]
  },
  {
   "cell_type": "code",
   "execution_count": 5,
   "id": "667d6336-3dad-4ca5-bc29-af2211a2622b",
   "metadata": {},
   "outputs": [],
   "source": [
    "a = np.array([[1,2,3],[4,5,6]])"
   ]
  },
  {
   "cell_type": "code",
   "execution_count": 6,
   "id": "b25c5502-ce5b-4126-b442-9360ff74d0a8",
   "metadata": {},
   "outputs": [
    {
     "name": "stdout",
     "output_type": "stream",
     "text": [
      "[[1 2 3]\n",
      " [4 5 6]]\n"
     ]
    }
   ],
   "source": [
    "print(a)"
   ]
  },
  {
   "cell_type": "code",
   "execution_count": 7,
   "id": "a4618392-4d61-4106-8cb9-559b5cb1b242",
   "metadata": {},
   "outputs": [
    {
     "name": "stdout",
     "output_type": "stream",
     "text": [
      "(2, 3)\n"
     ]
    }
   ],
   "source": [
    "print(a.shape)"
   ]
  },
  {
   "cell_type": "code",
   "execution_count": 8,
   "id": "d00f8878-a725-4103-93f2-26494046f0ca",
   "metadata": {},
   "outputs": [
    {
     "name": "stdout",
     "output_type": "stream",
     "text": [
      "<built-in method reshape of numpy.ndarray object at 0x00000265FE47B330>\n"
     ]
    }
   ],
   "source": [
    "print(a.reshape)"
   ]
  },
  {
   "cell_type": "code",
   "execution_count": 9,
   "id": "b021a91b-c47c-4fa2-a115-d635f6f489fc",
   "metadata": {},
   "outputs": [
    {
     "name": "stdout",
     "output_type": "stream",
     "text": [
      "[[1 2]\n",
      " [3 4]\n",
      " [5 6]]\n"
     ]
    }
   ],
   "source": [
    "print(a.reshape(3,2))"
   ]
  },
  {
   "cell_type": "code",
   "execution_count": 10,
   "id": "581434cc-5de1-4588-a658-552c4293e017",
   "metadata": {},
   "outputs": [
    {
     "name": "stdout",
     "output_type": "stream",
     "text": [
      "[ 0  1  2  3  4  5  6  7  8  9 10 11 12 13 14 15 16 17 18 19 20 21 22 23]\n"
     ]
    }
   ],
   "source": [
    "a=np.arange(24)\n",
    "print(a)"
   ]
  },
  {
   "cell_type": "code",
   "execution_count": 11,
   "id": "08188df7-3ed6-49aa-8272-92c32b5885b5",
   "metadata": {},
   "outputs": [
    {
     "name": "stdout",
     "output_type": "stream",
     "text": [
      "[10 12 14 16 18]\n"
     ]
    }
   ],
   "source": [
    "x=np.arange(10,20,2)\n",
    "print(x)"
   ]
  },
  {
   "cell_type": "code",
   "execution_count": 12,
   "id": "51db5d4d-1151-46ef-98d2-adc15d8dd6f8",
   "metadata": {},
   "outputs": [
    {
     "name": "stdout",
     "output_type": "stream",
     "text": [
      "[10.          9.83673469  9.67346939  9.51020408  9.34693878  9.18367347\n",
      "  9.02040816  8.85714286  8.69387755  8.53061224  8.36734694  8.20408163\n",
      "  8.04081633  7.87755102  7.71428571  7.55102041  7.3877551   7.2244898\n",
      "  7.06122449  6.89795918  6.73469388  6.57142857  6.40816327  6.24489796\n",
      "  6.08163265  5.91836735  5.75510204  5.59183673  5.42857143  5.26530612\n",
      "  5.10204082  4.93877551  4.7755102   4.6122449   4.44897959  4.28571429\n",
      "  4.12244898  3.95918367  3.79591837  3.63265306  3.46938776  3.30612245\n",
      "  3.14285714  2.97959184  2.81632653  2.65306122  2.48979592  2.32653061\n",
      "  2.16326531  2.        ]\n"
     ]
    }
   ],
   "source": [
    "x=np.linspace(10,2)\n",
    "print(x)"
   ]
  },
  {
   "cell_type": "code",
   "execution_count": 13,
   "id": "8607d611-4e02-445b-8a93-a5d55ef7ef58",
   "metadata": {},
   "outputs": [],
   "source": [
    "import json\n",
    "with open(r'545483b2-9d22-4eae-b50a-bc3c888a3548.json','r') as file:\n",
    "    data = json.load(file)\n",
    "    "
   ]
  },
  {
   "cell_type": "code",
   "execution_count": 14,
   "id": "68928636-7782-4f0c-84ff-f940a70d9ebb",
   "metadata": {},
   "outputs": [
    {
     "name": "stdout",
     "output_type": "stream",
     "text": [
      "Pretty printing has been turned OFF\n"
     ]
    }
   ],
   "source": [
    "pprint(data)"
   ]
  },
  {
   "cell_type": "code",
   "execution_count": 15,
   "id": "b423e8ee-04c1-4f4d-897c-30e0ecbab4bd",
   "metadata": {},
   "outputs": [
    {
     "data": {
      "text/plain": [
       "[{'page': 1, 'tables': [{'rows': 5, 'columns': 6, 'cells': [{'rowIndex': 0, 'columnIndex': 0, 'text': 'FROM', 'isHeader': True, 'boundingBox': [0.36, 5.23, 0.6, 5.23, 0.6, 5.3, 0.36, 5.3]}, {'rowIndex': 0, 'columnIndex': 1, 'text': 'TO', 'isHeader': True, 'boundingBox': [0.835, 5.23, 1.06, 5.23, 1.06, 5.3, 0.835, 5.3]}, {'rowIndex': 0, 'columnIndex': 2, 'text': 'DUR(hr)', 'isHeader': True, 'boundingBox': [1.375, 5.23, 1.6, 5.23, 1.6, 5.315, 1.375, 5.315]}, {'rowIndex': 0, 'columnIndex': 3, 'text': 'CLASS', 'isHeader': True, 'boundingBox': [2.055, 5.23, 2.17, 5.23, 2.17, 5.3, 2.055, 5.3]}, {'rowIndex': 0, 'columnIndex': 4, 'text': 'RIG', 'isHeader': True, 'boundingBox': [2.53, 5.235, 2.765, 5.235, 2.765, 5.31, 2.53, 5.31]}, {'rowIndex': 0, 'columnIndex': 5, 'text': 'DESCRIPTION', 'isHeader': True, 'boundingBox': [2.95, 5.185, 7.45, 5.185, 7.45, 7.47, 2.95, 7.47]}, {'rowIndex': 1, 'columnIndex': 0, 'text': '00:00', 'boundingBox': [0.36, 5.23, 0.6, 5.23, 0.6, 5.3, 0.36, 5.3]}, {'rowIndex': 1, 'columnIndex': 1, 'text': '11:00', 'boundingBox': [0.835, 5.23, 1.06, 5.23, 1.06, 5.3, 0.835, 5.3]}, {'rowIndex': 1, 'columnIndex': 2, 'text': '11,00', 'boundingBox': [1.375, 5.23, 1.6, 5.23, 1.6, 5.315, 1.375, 5.315]}, {'rowIndex': 1, 'columnIndex': 3, 'text': 'PT', 'boundingBox': [2.055, 5.23, 2.17, 5.23, 2.17, 5.3, 2.055, 5.3]}, {'rowIndex': 1, 'columnIndex': 4, 'text': 'MAIN', 'boundingBox': [2.53, 5.235, 2.765, 5.235, 2.765, 5.31, 2.53, 5.31]}, {'rowIndex': 1, 'columnIndex': 5, 'text': 'MW: Drilling with 8 1/2\" BHA from 5721 m to 5742 m, with 15-30 klbf, 80-120 rpm, 25-33 klbf.ft, 600 gpm / 2550 psi. Notes: - EDS#4 (CSR+UBSR). - Keeping booster with 350 gpm / 550 psi, SBP 300 psi, Choke A 46-48%. - MPD in AP mode @ 5547 m with 9,80 ppg. - Using PWD internal gauge to estimate ECD and to calibrate MPD model. - Backreaming 20 m at 5723 m and 5731 m due to surface torque increasing. - Backreaming 5 m at 5737 m due to low ROP and backreaming 30 m at 5740 due to low ROP and BHA vibration. - Observing stall with 33 klbf.ft at 5739 m. - Observing MRIL tool failure at 5739 m.', 'boundingBox': [2.95, 5.185, 7.45, 5.185, 7.45, 7.47, 2.95, 7.47]}, {'rowIndex': 2, 'columnIndex': 0, 'text': '11:00', 'boundingBox': [0.37, 7.585, 0.595, 7.585, 0.595, 7.655, 0.37, 7.655]}, {'rowIndex': 2, 'columnIndex': 1, 'text': '12:30', 'boundingBox': [0.83, 7.585, 1.06, 7.585, 1.06, 7.655, 0.83, 7.655]}, {'rowIndex': 2, 'columnIndex': 2, 'text': '1,50', 'boundingBox': [1.4, 7.585, 1.575, 7.585, 1.575, 7.67, 1.4, 7.67]}, {'rowIndex': 2, 'columnIndex': 3, 'text': 'NPT', 'boundingBox': [2.02, 7.585, 2.21, 7.585, 2.21, 7.655, 2.02, 7.655]}, {'rowIndex': 2, 'columnIndex': 4, 'text': 'MAIN', 'boundingBox': [2.53, 7.59, 2.765, 7.59, 2.765, 7.665, 2.53, 7.665]}, {'rowIndex': 2, 'columnIndex': 5, 'text': 'MW: Troubleshooting MRIL tool. Obs.: - Performing downlinks and manual mode switch, without sucess.', 'boundingBox': [2.95, 7.54, 6.525, 7.54, 6.525, 8.155, 2.95, 8.155]}, {'rowIndex': 3, 'columnIndex': 0, 'text': '12:30', 'boundingBox': [0.37, 8.275, 0.6, 8.275, 0.6, 8.345, 0.37, 8.345]}, {'rowIndex': 3, 'columnIndex': 1, 'text': '15:00', 'boundingBox': [0.83, 8.275, 1.06, 8.275, 1.06, 8.345, 0.83, 8.345]}, {'rowIndex': 3, 'columnIndex': 2, 'text': '2,50', 'boundingBox': [1.39, 8.275, 1.575, 8.275, 1.575, 8.36, 1.39, 8.36]}, {'rowIndex': 3, 'columnIndex': 3, 'text': 'PT', 'boundingBox': [2.055, 8.275, 2.17, 8.275, 2.17, 8.345, 2.055, 8.345]}, {'rowIndex': 3, 'columnIndex': 4, 'text': 'MAIN', 'boundingBox': [2.53, 8.28, 2.765, 8.28, 2.765, 8.35, 2.53, 8.35]}, {'rowIndex': 3, 'columnIndex': 5, 'text': 'MW: Drilling with 8 1/2\" BHA from 5742 m to 5747 m, with 15-37 klbf, 80 rpm, 25-32 klbf.ft, 600 gpm / 2550 psi. Notes: - Keeping booster with 350 gpm / 550 psi, SBP 300 psi, Choke A 46-48%. - MPD in AP mode @ 5547 m with 9,80 ppg. - Observing failure to receive M/LWD signal.', 'boundingBox': [2.95, 8.23, 7.455, 8.23, 7.455, 9.345, 2.95, 9.345]}, {'rowIndex': 4, 'columnIndex': 0, 'text': '15:00', 'boundingBox': [0.37, 9.46, 0.6, 9.46, 0.6, 9.535, 0.37, 9.535]}, {'rowIndex': 4, 'columnIndex': 1, 'text': '16:00', 'boundingBox': [0.83, 9.46, 1.06, 9.46, 1.06, 9.535, 0.83, 9.535]}, {'rowIndex': 4, 'columnIndex': 2, 'text': '1,00', 'boundingBox': [1.4, 9.46, 1.575, 9.46, 1.575, 9.545, 1.4, 9.545]}, {'rowIndex': 4, 'columnIndex': 3, 'text': 'NPT', 'boundingBox': [2.02, 9.46, 2.21, 9.46, 2.21, 9.535, 2.02, 9.535]}, {'rowIndex': 4, 'columnIndex': 4, 'text': 'MAIN', 'boundingBox': [2.53, 9.47, 2.765, 9.47, 2.765, 9.54, 2.53, 9.54]}, {'rowIndex': 4, 'columnIndex': 5, 'text': 'MW: Troubleshooting M/LWD tools. Obs.: - Performing downlinks and manual mode switch, with sucess.', 'boundingBox': [2.95, 9.415, 6.35, 9.415, 6.35, 10.03, 2.95, 10.03]}], 'boundingBox': [], 'tableName': 'Operations Summary', 'columnCount': 6}]}]"
      ]
     },
     "execution_count": 15,
     "metadata": {},
     "output_type": "execute_result"
    }
   ],
   "source": [
    "data['analyzeResult']['pageResults']"
   ]
  },
  {
   "cell_type": "code",
   "execution_count": 16,
   "id": "339b7547-2f97-451c-9f02-86fa49a2687b",
   "metadata": {},
   "outputs": [
    {
     "name": "stdout",
     "output_type": "stream",
     "text": [
      "FROM\n",
      "TO\n",
      "DUR(hr)\n",
      "CLASS\n",
      "RIG\n",
      "DESCRIPTION\n",
      "00:00\n",
      "11:00\n",
      "11,00\n",
      "PT\n",
      "MAIN\n",
      "MW: Drilling with 8 1/2\" BHA from 5721 m to 5742 m, with 15-30 klbf, 80-120 rpm, 25-33 klbf.ft, 600 gpm / 2550 psi. Notes: - EDS#4 (CSR+UBSR). - Keeping booster with 350 gpm / 550 psi, SBP 300 psi, Choke A 46-48%. - MPD in AP mode @ 5547 m with 9,80 ppg. - Using PWD internal gauge to estimate ECD and to calibrate MPD model. - Backreaming 20 m at 5723 m and 5731 m due to surface torque increasing. - Backreaming 5 m at 5737 m due to low ROP and backreaming 30 m at 5740 due to low ROP and BHA vibration. - Observing stall with 33 klbf.ft at 5739 m. - Observing MRIL tool failure at 5739 m.\n",
      "11:00\n",
      "12:30\n",
      "1,50\n",
      "NPT\n",
      "MAIN\n",
      "MW: Troubleshooting MRIL tool. Obs.: - Performing downlinks and manual mode switch, without sucess.\n",
      "12:30\n",
      "15:00\n",
      "2,50\n",
      "PT\n",
      "MAIN\n",
      "MW: Drilling with 8 1/2\" BHA from 5742 m to 5747 m, with 15-37 klbf, 80 rpm, 25-32 klbf.ft, 600 gpm / 2550 psi. Notes: - Keeping booster with 350 gpm / 550 psi, SBP 300 psi, Choke A 46-48%. - MPD in AP mode @ 5547 m with 9,80 ppg. - Observing failure to receive M/LWD signal.\n",
      "15:00\n",
      "16:00\n",
      "1,00\n",
      "NPT\n",
      "MAIN\n",
      "MW: Troubleshooting M/LWD tools. Obs.: - Performing downlinks and manual mode switch, with sucess.\n"
     ]
    }
   ],
   "source": [
    "for i in data['analyzeResult']['pageResults']:\n",
    "    for j in i['tables']:\n",
    "        for k in j['cells']:\n",
    "            print(k['text'])"
   ]
  },
  {
   "cell_type": "code",
   "execution_count": 17,
   "id": "a562d1c5-56b5-43e1-9361-7c6d4ab68700",
   "metadata": {},
   "outputs": [],
   "source": [
    "data2 = []\n",
    "cells = data['analyzeResult']['pageResults'][0]['tables'][0]['cells']\n",
    "rowindex = [0,1,2,3,4]\n",
    "for i in rowindex:\n",
    "    lst = []\n",
    "    for j in cells:\n",
    "        if j['rowIndex'] == i:\n",
    "            lst.append(j['text'])\n",
    "    data2.append(lst)"
   ]
  },
  {
   "cell_type": "code",
   "execution_count": 18,
   "id": "9286071a-1b15-41e6-a06c-1fffdbd35c74",
   "metadata": {},
   "outputs": [
    {
     "name": "stdout",
     "output_type": "stream",
     "text": [
      "[['FROM', 'TO', 'DUR(hr)', 'CLASS', 'RIG', 'DESCRIPTION'], ['00:00', '11:00', '11,00', 'PT', 'MAIN', 'MW: Drilling with 8 1/2\" BHA from 5721 m to 5742 m, with 15-30 klbf, 80-120 rpm, 25-33 klbf.ft, 600 gpm / 2550 psi. Notes: - EDS#4 (CSR+UBSR). - Keeping booster with 350 gpm / 550 psi, SBP 300 psi, Choke A 46-48%. - MPD in AP mode @ 5547 m with 9,80 ppg. - Using PWD internal gauge to estimate ECD and to calibrate MPD model. - Backreaming 20 m at 5723 m and 5731 m due to surface torque increasing. - Backreaming 5 m at 5737 m due to low ROP and backreaming 30 m at 5740 due to low ROP and BHA vibration. - Observing stall with 33 klbf.ft at 5739 m. - Observing MRIL tool failure at 5739 m.'], ['11:00', '12:30', '1,50', 'NPT', 'MAIN', 'MW: Troubleshooting MRIL tool. Obs.: - Performing downlinks and manual mode switch, without sucess.'], ['12:30', '15:00', '2,50', 'PT', 'MAIN', 'MW: Drilling with 8 1/2\" BHA from 5742 m to 5747 m, with 15-37 klbf, 80 rpm, 25-32 klbf.ft, 600 gpm / 2550 psi. Notes: - Keeping booster with 350 gpm / 550 psi, SBP 300 psi, Choke A 46-48%. - MPD in AP mode @ 5547 m with 9,80 ppg. - Observing failure to receive M/LWD signal.'], ['15:00', '16:00', '1,00', 'NPT', 'MAIN', 'MW: Troubleshooting M/LWD tools. Obs.: - Performing downlinks and manual mode switch, with sucess.']]\n"
     ]
    },
    {
     "data": {
      "text/plain": [
       "5"
      ]
     },
     "execution_count": 18,
     "metadata": {},
     "output_type": "execute_result"
    }
   ],
   "source": [
    "print(data2)\n",
    "len(data2)"
   ]
  },
  {
   "cell_type": "code",
   "execution_count": 19,
   "id": "03c54986-d216-4711-8e19-fd60ab7944d3",
   "metadata": {},
   "outputs": [
    {
     "ename": "IndexError",
     "evalue": "list index out of range",
     "output_type": "error",
     "traceback": [
      "\u001b[1;31m---------------------------------------------------------------------------\u001b[0m",
      "\u001b[1;31mIndexError\u001b[0m                                Traceback (most recent call last)",
      "Cell \u001b[1;32mIn[19], line 4\u001b[0m\n\u001b[0;32m      2\u001b[0m \u001b[38;5;28;01mfor\u001b[39;00m i \u001b[38;5;129;01min\u001b[39;00m cells:\n\u001b[0;32m      3\u001b[0m     ind \u001b[38;5;241m=\u001b[39m \u001b[38;5;28mint\u001b[39m(i[\u001b[38;5;124m'\u001b[39m\u001b[38;5;124mrowIndex\u001b[39m\u001b[38;5;124m'\u001b[39m])\n\u001b[1;32m----> 4\u001b[0m     \u001b[43mdata3\u001b[49m\u001b[43m[\u001b[49m\u001b[43mind\u001b[49m\u001b[43m]\u001b[49m\u001b[38;5;241m.\u001b[39mappend(i[\u001b[38;5;124m'\u001b[39m\u001b[38;5;124mtext\u001b[39m\u001b[38;5;124m'\u001b[39m])\n\u001b[0;32m      6\u001b[0m \u001b[38;5;28mprint\u001b[39m(data3)\n",
      "\u001b[1;31mIndexError\u001b[0m: list index out of range"
     ]
    }
   ],
   "source": [
    "data3 = []\n",
    "for i in cells:\n",
    "    ind = int(i['rowIndex'])\n",
    "    data3[ind].append(i['text'])\n",
    "\n",
    "print(data3)"
   ]
  },
  {
   "cell_type": "code",
   "execution_count": null,
   "id": "e097eff5-40ed-4a51-b643-a9ea03eb0f56",
   "metadata": {},
   "outputs": [],
   "source": []
  }
 ],
 "metadata": {
  "kernelspec": {
   "display_name": "Python 3 (ipykernel)",
   "language": "python",
   "name": "python3"
  },
  "language_info": {
   "codemirror_mode": {
    "name": "ipython",
    "version": 3
   },
   "file_extension": ".py",
   "mimetype": "text/x-python",
   "name": "python",
   "nbconvert_exporter": "python",
   "pygments_lexer": "ipython3",
   "version": "3.9.2"
  }
 },
 "nbformat": 4,
 "nbformat_minor": 5
}
